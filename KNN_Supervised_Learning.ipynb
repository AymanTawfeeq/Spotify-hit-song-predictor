{
  "nbformat": 4,
  "nbformat_minor": 0,
  "metadata": {
    "colab": {
      "name": "KNN Supervised Learning",
      "provenance": [],
      "collapsed_sections": []
    },
    "kernelspec": {
      "name": "python3",
      "display_name": "Python 3"
    },
    "language_info": {
      "name": "python"
    }
  },
  "cells": [
    {
      "cell_type": "code",
      "execution_count": null,
      "metadata": {
        "id": "pXQL8pad2RiB"
      },
      "outputs": [],
      "source": [
        "import numpy as np\n",
        "import pandas as pd\n",
        "import matplotlib.pyplot as plt\n",
        "plt.style.use('ggplot')"
      ]
    },
    {
      "cell_type": "code",
      "source": [
        "#Load the dataset\n",
        "df = pd.read_csv('dataset-of-00s.csv')\n",
        "#Print the first 5 rows of the dataframe.\n",
        "df.head()"
      ],
      "metadata": {
        "colab": {
          "base_uri": "https://localhost:8080/",
          "height": 409
        },
        "id": "kTPBm9qU4Usz",
        "outputId": "7b32332f-e401-4a6c-9cd5-41a82856da96"
      },
      "execution_count": null,
      "outputs": [
        {
          "output_type": "execute_result",
          "data": {
            "text/plain": [
              "                      track             artist  \\\n",
              "0                 Lucky Man  Montgomery Gentry   \n",
              "1            On The Hotline       Pretty Ricky   \n",
              "2        Clouds Of Dementia         Candlemass   \n",
              "3  Heavy Metal, Raise Hell!      Zwartketterij   \n",
              "4           I Got A Feelin'   Billy Currington   \n",
              "\n",
              "                                    uri  danceability  energy  key  loudness  \\\n",
              "0  spotify:track:4GiXBCUF7H6YfNQsnBRIzl         0.578   0.471    4    -7.270   \n",
              "1  spotify:track:1zyqZONW985Cs4osz9wlsu         0.704   0.854   10    -5.477   \n",
              "2  spotify:track:6cHZf7RbxXCKwEkgAZT4mY         0.162   0.836    9    -3.009   \n",
              "3  spotify:track:2IjBPp2vMeX7LggzRN3iSX         0.188   0.994    4    -3.745   \n",
              "4  spotify:track:1tF370eYXUcWwkIvaq3IGz         0.630   0.764    2    -4.353   \n",
              "\n",
              "   mode  speechiness  acousticness  instrumentalness  liveness  valence  \\\n",
              "0     1       0.0289      0.368000           0.00000     0.159    0.532   \n",
              "1     0       0.1830      0.018500           0.00000     0.148    0.688   \n",
              "2     1       0.0473      0.000111           0.00457     0.174    0.300   \n",
              "3     1       0.1660      0.000007           0.07840     0.192    0.333   \n",
              "4     1       0.0275      0.363000           0.00000     0.125    0.631   \n",
              "\n",
              "     tempo  duration_ms  time_signature  chorus_hit  sections  target  \n",
              "0  133.061       196707               4    30.88059        13       1  \n",
              "1   92.988       242587               4    41.51106        10       1  \n",
              "2   86.964       338893               4    65.32887        13       0  \n",
              "3  148.440       255667               4    58.59528         9       0  \n",
              "4  112.098       193760               4    22.62384        10       1  "
            ],
            "text/html": [
              "\n",
              "  <div id=\"df-be91eb9d-f983-45af-8492-2a5228906642\">\n",
              "    <div class=\"colab-df-container\">\n",
              "      <div>\n",
              "<style scoped>\n",
              "    .dataframe tbody tr th:only-of-type {\n",
              "        vertical-align: middle;\n",
              "    }\n",
              "\n",
              "    .dataframe tbody tr th {\n",
              "        vertical-align: top;\n",
              "    }\n",
              "\n",
              "    .dataframe thead th {\n",
              "        text-align: right;\n",
              "    }\n",
              "</style>\n",
              "<table border=\"1\" class=\"dataframe\">\n",
              "  <thead>\n",
              "    <tr style=\"text-align: right;\">\n",
              "      <th></th>\n",
              "      <th>track</th>\n",
              "      <th>artist</th>\n",
              "      <th>uri</th>\n",
              "      <th>danceability</th>\n",
              "      <th>energy</th>\n",
              "      <th>key</th>\n",
              "      <th>loudness</th>\n",
              "      <th>mode</th>\n",
              "      <th>speechiness</th>\n",
              "      <th>acousticness</th>\n",
              "      <th>instrumentalness</th>\n",
              "      <th>liveness</th>\n",
              "      <th>valence</th>\n",
              "      <th>tempo</th>\n",
              "      <th>duration_ms</th>\n",
              "      <th>time_signature</th>\n",
              "      <th>chorus_hit</th>\n",
              "      <th>sections</th>\n",
              "      <th>target</th>\n",
              "    </tr>\n",
              "  </thead>\n",
              "  <tbody>\n",
              "    <tr>\n",
              "      <th>0</th>\n",
              "      <td>Lucky Man</td>\n",
              "      <td>Montgomery Gentry</td>\n",
              "      <td>spotify:track:4GiXBCUF7H6YfNQsnBRIzl</td>\n",
              "      <td>0.578</td>\n",
              "      <td>0.471</td>\n",
              "      <td>4</td>\n",
              "      <td>-7.270</td>\n",
              "      <td>1</td>\n",
              "      <td>0.0289</td>\n",
              "      <td>0.368000</td>\n",
              "      <td>0.00000</td>\n",
              "      <td>0.159</td>\n",
              "      <td>0.532</td>\n",
              "      <td>133.061</td>\n",
              "      <td>196707</td>\n",
              "      <td>4</td>\n",
              "      <td>30.88059</td>\n",
              "      <td>13</td>\n",
              "      <td>1</td>\n",
              "    </tr>\n",
              "    <tr>\n",
              "      <th>1</th>\n",
              "      <td>On The Hotline</td>\n",
              "      <td>Pretty Ricky</td>\n",
              "      <td>spotify:track:1zyqZONW985Cs4osz9wlsu</td>\n",
              "      <td>0.704</td>\n",
              "      <td>0.854</td>\n",
              "      <td>10</td>\n",
              "      <td>-5.477</td>\n",
              "      <td>0</td>\n",
              "      <td>0.1830</td>\n",
              "      <td>0.018500</td>\n",
              "      <td>0.00000</td>\n",
              "      <td>0.148</td>\n",
              "      <td>0.688</td>\n",
              "      <td>92.988</td>\n",
              "      <td>242587</td>\n",
              "      <td>4</td>\n",
              "      <td>41.51106</td>\n",
              "      <td>10</td>\n",
              "      <td>1</td>\n",
              "    </tr>\n",
              "    <tr>\n",
              "      <th>2</th>\n",
              "      <td>Clouds Of Dementia</td>\n",
              "      <td>Candlemass</td>\n",
              "      <td>spotify:track:6cHZf7RbxXCKwEkgAZT4mY</td>\n",
              "      <td>0.162</td>\n",
              "      <td>0.836</td>\n",
              "      <td>9</td>\n",
              "      <td>-3.009</td>\n",
              "      <td>1</td>\n",
              "      <td>0.0473</td>\n",
              "      <td>0.000111</td>\n",
              "      <td>0.00457</td>\n",
              "      <td>0.174</td>\n",
              "      <td>0.300</td>\n",
              "      <td>86.964</td>\n",
              "      <td>338893</td>\n",
              "      <td>4</td>\n",
              "      <td>65.32887</td>\n",
              "      <td>13</td>\n",
              "      <td>0</td>\n",
              "    </tr>\n",
              "    <tr>\n",
              "      <th>3</th>\n",
              "      <td>Heavy Metal, Raise Hell!</td>\n",
              "      <td>Zwartketterij</td>\n",
              "      <td>spotify:track:2IjBPp2vMeX7LggzRN3iSX</td>\n",
              "      <td>0.188</td>\n",
              "      <td>0.994</td>\n",
              "      <td>4</td>\n",
              "      <td>-3.745</td>\n",
              "      <td>1</td>\n",
              "      <td>0.1660</td>\n",
              "      <td>0.000007</td>\n",
              "      <td>0.07840</td>\n",
              "      <td>0.192</td>\n",
              "      <td>0.333</td>\n",
              "      <td>148.440</td>\n",
              "      <td>255667</td>\n",
              "      <td>4</td>\n",
              "      <td>58.59528</td>\n",
              "      <td>9</td>\n",
              "      <td>0</td>\n",
              "    </tr>\n",
              "    <tr>\n",
              "      <th>4</th>\n",
              "      <td>I Got A Feelin'</td>\n",
              "      <td>Billy Currington</td>\n",
              "      <td>spotify:track:1tF370eYXUcWwkIvaq3IGz</td>\n",
              "      <td>0.630</td>\n",
              "      <td>0.764</td>\n",
              "      <td>2</td>\n",
              "      <td>-4.353</td>\n",
              "      <td>1</td>\n",
              "      <td>0.0275</td>\n",
              "      <td>0.363000</td>\n",
              "      <td>0.00000</td>\n",
              "      <td>0.125</td>\n",
              "      <td>0.631</td>\n",
              "      <td>112.098</td>\n",
              "      <td>193760</td>\n",
              "      <td>4</td>\n",
              "      <td>22.62384</td>\n",
              "      <td>10</td>\n",
              "      <td>1</td>\n",
              "    </tr>\n",
              "  </tbody>\n",
              "</table>\n",
              "</div>\n",
              "      <button class=\"colab-df-convert\" onclick=\"convertToInteractive('df-be91eb9d-f983-45af-8492-2a5228906642')\"\n",
              "              title=\"Convert this dataframe to an interactive table.\"\n",
              "              style=\"display:none;\">\n",
              "        \n",
              "  <svg xmlns=\"http://www.w3.org/2000/svg\" height=\"24px\"viewBox=\"0 0 24 24\"\n",
              "       width=\"24px\">\n",
              "    <path d=\"M0 0h24v24H0V0z\" fill=\"none\"/>\n",
              "    <path d=\"M18.56 5.44l.94 2.06.94-2.06 2.06-.94-2.06-.94-.94-2.06-.94 2.06-2.06.94zm-11 1L8.5 8.5l.94-2.06 2.06-.94-2.06-.94L8.5 2.5l-.94 2.06-2.06.94zm10 10l.94 2.06.94-2.06 2.06-.94-2.06-.94-.94-2.06-.94 2.06-2.06.94z\"/><path d=\"M17.41 7.96l-1.37-1.37c-.4-.4-.92-.59-1.43-.59-.52 0-1.04.2-1.43.59L10.3 9.45l-7.72 7.72c-.78.78-.78 2.05 0 2.83L4 21.41c.39.39.9.59 1.41.59.51 0 1.02-.2 1.41-.59l7.78-7.78 2.81-2.81c.8-.78.8-2.07 0-2.86zM5.41 20L4 18.59l7.72-7.72 1.47 1.35L5.41 20z\"/>\n",
              "  </svg>\n",
              "      </button>\n",
              "      \n",
              "  <style>\n",
              "    .colab-df-container {\n",
              "      display:flex;\n",
              "      flex-wrap:wrap;\n",
              "      gap: 12px;\n",
              "    }\n",
              "\n",
              "    .colab-df-convert {\n",
              "      background-color: #E8F0FE;\n",
              "      border: none;\n",
              "      border-radius: 50%;\n",
              "      cursor: pointer;\n",
              "      display: none;\n",
              "      fill: #1967D2;\n",
              "      height: 32px;\n",
              "      padding: 0 0 0 0;\n",
              "      width: 32px;\n",
              "    }\n",
              "\n",
              "    .colab-df-convert:hover {\n",
              "      background-color: #E2EBFA;\n",
              "      box-shadow: 0px 1px 2px rgba(60, 64, 67, 0.3), 0px 1px 3px 1px rgba(60, 64, 67, 0.15);\n",
              "      fill: #174EA6;\n",
              "    }\n",
              "\n",
              "    [theme=dark] .colab-df-convert {\n",
              "      background-color: #3B4455;\n",
              "      fill: #D2E3FC;\n",
              "    }\n",
              "\n",
              "    [theme=dark] .colab-df-convert:hover {\n",
              "      background-color: #434B5C;\n",
              "      box-shadow: 0px 1px 3px 1px rgba(0, 0, 0, 0.15);\n",
              "      filter: drop-shadow(0px 1px 2px rgba(0, 0, 0, 0.3));\n",
              "      fill: #FFFFFF;\n",
              "    }\n",
              "  </style>\n",
              "\n",
              "      <script>\n",
              "        const buttonEl =\n",
              "          document.querySelector('#df-be91eb9d-f983-45af-8492-2a5228906642 button.colab-df-convert');\n",
              "        buttonEl.style.display =\n",
              "          google.colab.kernel.accessAllowed ? 'block' : 'none';\n",
              "\n",
              "        async function convertToInteractive(key) {\n",
              "          const element = document.querySelector('#df-be91eb9d-f983-45af-8492-2a5228906642');\n",
              "          const dataTable =\n",
              "            await google.colab.kernel.invokeFunction('convertToInteractive',\n",
              "                                                     [key], {});\n",
              "          if (!dataTable) return;\n",
              "\n",
              "          const docLinkHtml = 'Like what you see? Visit the ' +\n",
              "            '<a target=\"_blank\" href=https://colab.research.google.com/notebooks/data_table.ipynb>data table notebook</a>'\n",
              "            + ' to learn more about interactive tables.';\n",
              "          element.innerHTML = '';\n",
              "          dataTable['output_type'] = 'display_data';\n",
              "          await google.colab.output.renderOutput(dataTable, element);\n",
              "          const docLink = document.createElement('div');\n",
              "          docLink.innerHTML = docLinkHtml;\n",
              "          element.appendChild(docLink);\n",
              "        }\n",
              "      </script>\n",
              "    </div>\n",
              "  </div>\n",
              "  "
            ]
          },
          "metadata": {},
          "execution_count": 2
        }
      ]
    },
    {
      "cell_type": "code",
      "source": [
        "df.drop(['track','artist','uri','speechiness','liveness'],axis=1)"
      ],
      "metadata": {
        "colab": {
          "base_uri": "https://localhost:8080/",
          "height": 487
        },
        "id": "mxTtUzMM5mxb",
        "outputId": "05a464f2-a49e-4324-a40a-8554f410ad6b"
      },
      "execution_count": null,
      "outputs": [
        {
          "output_type": "execute_result",
          "data": {
            "text/plain": [
              "      danceability  energy  key  loudness  mode  acousticness  \\\n",
              "0            0.578  0.4710    4    -7.270     1      0.368000   \n",
              "1            0.704  0.8540   10    -5.477     0      0.018500   \n",
              "2            0.162  0.8360    9    -3.009     1      0.000111   \n",
              "3            0.188  0.9940    4    -3.745     1      0.000007   \n",
              "4            0.630  0.7640    2    -4.353     1      0.363000   \n",
              "...            ...     ...  ...       ...   ...           ...   \n",
              "5867         0.667  0.6270    6   -10.488     0      0.097200   \n",
              "5868         0.691  0.3890    6   -10.125     1      0.255000   \n",
              "5869         0.297  0.0773    2   -23.839     1      0.951000   \n",
              "5870         0.390  0.6010    7    -8.236     0      0.031300   \n",
              "5871         0.539  0.7400    0    -5.566     0      0.194000   \n",
              "\n",
              "      instrumentalness  valence    tempo  duration_ms  time_signature  \\\n",
              "0             0.000000    0.532  133.061       196707               4   \n",
              "1             0.000000    0.688   92.988       242587               4   \n",
              "2             0.004570    0.300   86.964       338893               4   \n",
              "3             0.078400    0.333  148.440       255667               4   \n",
              "4             0.000000    0.631  112.098       193760               4   \n",
              "...                ...      ...      ...          ...             ...   \n",
              "5867          0.000052    0.784  186.081       232560               4   \n",
              "5868          0.000000    0.437  122.219       233840               4   \n",
              "5869          0.000217    0.401   75.916       275560               4   \n",
              "5870          0.947000    0.439  116.122       223627               4   \n",
              "5871          0.000000    0.675  170.054       217160               4   \n",
              "\n",
              "      chorus_hit  sections  target  \n",
              "0       30.88059        13       1  \n",
              "1       41.51106        10       1  \n",
              "2       65.32887        13       0  \n",
              "3       58.59528         9       0  \n",
              "4       22.62384        10       1  \n",
              "...          ...       ...     ...  \n",
              "5867    40.87045        10       1  \n",
              "5868    81.77735         7       1  \n",
              "5869    37.51903        11       0  \n",
              "5870    39.84092        11       0  \n",
              "5871    24.95471        13       1  \n",
              "\n",
              "[5872 rows x 14 columns]"
            ],
            "text/html": [
              "\n",
              "  <div id=\"df-2e6db2cf-8763-4cc5-9d93-69b6e19efe04\">\n",
              "    <div class=\"colab-df-container\">\n",
              "      <div>\n",
              "<style scoped>\n",
              "    .dataframe tbody tr th:only-of-type {\n",
              "        vertical-align: middle;\n",
              "    }\n",
              "\n",
              "    .dataframe tbody tr th {\n",
              "        vertical-align: top;\n",
              "    }\n",
              "\n",
              "    .dataframe thead th {\n",
              "        text-align: right;\n",
              "    }\n",
              "</style>\n",
              "<table border=\"1\" class=\"dataframe\">\n",
              "  <thead>\n",
              "    <tr style=\"text-align: right;\">\n",
              "      <th></th>\n",
              "      <th>danceability</th>\n",
              "      <th>energy</th>\n",
              "      <th>key</th>\n",
              "      <th>loudness</th>\n",
              "      <th>mode</th>\n",
              "      <th>acousticness</th>\n",
              "      <th>instrumentalness</th>\n",
              "      <th>valence</th>\n",
              "      <th>tempo</th>\n",
              "      <th>duration_ms</th>\n",
              "      <th>time_signature</th>\n",
              "      <th>chorus_hit</th>\n",
              "      <th>sections</th>\n",
              "      <th>target</th>\n",
              "    </tr>\n",
              "  </thead>\n",
              "  <tbody>\n",
              "    <tr>\n",
              "      <th>0</th>\n",
              "      <td>0.578</td>\n",
              "      <td>0.4710</td>\n",
              "      <td>4</td>\n",
              "      <td>-7.270</td>\n",
              "      <td>1</td>\n",
              "      <td>0.368000</td>\n",
              "      <td>0.000000</td>\n",
              "      <td>0.532</td>\n",
              "      <td>133.061</td>\n",
              "      <td>196707</td>\n",
              "      <td>4</td>\n",
              "      <td>30.88059</td>\n",
              "      <td>13</td>\n",
              "      <td>1</td>\n",
              "    </tr>\n",
              "    <tr>\n",
              "      <th>1</th>\n",
              "      <td>0.704</td>\n",
              "      <td>0.8540</td>\n",
              "      <td>10</td>\n",
              "      <td>-5.477</td>\n",
              "      <td>0</td>\n",
              "      <td>0.018500</td>\n",
              "      <td>0.000000</td>\n",
              "      <td>0.688</td>\n",
              "      <td>92.988</td>\n",
              "      <td>242587</td>\n",
              "      <td>4</td>\n",
              "      <td>41.51106</td>\n",
              "      <td>10</td>\n",
              "      <td>1</td>\n",
              "    </tr>\n",
              "    <tr>\n",
              "      <th>2</th>\n",
              "      <td>0.162</td>\n",
              "      <td>0.8360</td>\n",
              "      <td>9</td>\n",
              "      <td>-3.009</td>\n",
              "      <td>1</td>\n",
              "      <td>0.000111</td>\n",
              "      <td>0.004570</td>\n",
              "      <td>0.300</td>\n",
              "      <td>86.964</td>\n",
              "      <td>338893</td>\n",
              "      <td>4</td>\n",
              "      <td>65.32887</td>\n",
              "      <td>13</td>\n",
              "      <td>0</td>\n",
              "    </tr>\n",
              "    <tr>\n",
              "      <th>3</th>\n",
              "      <td>0.188</td>\n",
              "      <td>0.9940</td>\n",
              "      <td>4</td>\n",
              "      <td>-3.745</td>\n",
              "      <td>1</td>\n",
              "      <td>0.000007</td>\n",
              "      <td>0.078400</td>\n",
              "      <td>0.333</td>\n",
              "      <td>148.440</td>\n",
              "      <td>255667</td>\n",
              "      <td>4</td>\n",
              "      <td>58.59528</td>\n",
              "      <td>9</td>\n",
              "      <td>0</td>\n",
              "    </tr>\n",
              "    <tr>\n",
              "      <th>4</th>\n",
              "      <td>0.630</td>\n",
              "      <td>0.7640</td>\n",
              "      <td>2</td>\n",
              "      <td>-4.353</td>\n",
              "      <td>1</td>\n",
              "      <td>0.363000</td>\n",
              "      <td>0.000000</td>\n",
              "      <td>0.631</td>\n",
              "      <td>112.098</td>\n",
              "      <td>193760</td>\n",
              "      <td>4</td>\n",
              "      <td>22.62384</td>\n",
              "      <td>10</td>\n",
              "      <td>1</td>\n",
              "    </tr>\n",
              "    <tr>\n",
              "      <th>...</th>\n",
              "      <td>...</td>\n",
              "      <td>...</td>\n",
              "      <td>...</td>\n",
              "      <td>...</td>\n",
              "      <td>...</td>\n",
              "      <td>...</td>\n",
              "      <td>...</td>\n",
              "      <td>...</td>\n",
              "      <td>...</td>\n",
              "      <td>...</td>\n",
              "      <td>...</td>\n",
              "      <td>...</td>\n",
              "      <td>...</td>\n",
              "      <td>...</td>\n",
              "    </tr>\n",
              "    <tr>\n",
              "      <th>5867</th>\n",
              "      <td>0.667</td>\n",
              "      <td>0.6270</td>\n",
              "      <td>6</td>\n",
              "      <td>-10.488</td>\n",
              "      <td>0</td>\n",
              "      <td>0.097200</td>\n",
              "      <td>0.000052</td>\n",
              "      <td>0.784</td>\n",
              "      <td>186.081</td>\n",
              "      <td>232560</td>\n",
              "      <td>4</td>\n",
              "      <td>40.87045</td>\n",
              "      <td>10</td>\n",
              "      <td>1</td>\n",
              "    </tr>\n",
              "    <tr>\n",
              "      <th>5868</th>\n",
              "      <td>0.691</td>\n",
              "      <td>0.3890</td>\n",
              "      <td>6</td>\n",
              "      <td>-10.125</td>\n",
              "      <td>1</td>\n",
              "      <td>0.255000</td>\n",
              "      <td>0.000000</td>\n",
              "      <td>0.437</td>\n",
              "      <td>122.219</td>\n",
              "      <td>233840</td>\n",
              "      <td>4</td>\n",
              "      <td>81.77735</td>\n",
              "      <td>7</td>\n",
              "      <td>1</td>\n",
              "    </tr>\n",
              "    <tr>\n",
              "      <th>5869</th>\n",
              "      <td>0.297</td>\n",
              "      <td>0.0773</td>\n",
              "      <td>2</td>\n",
              "      <td>-23.839</td>\n",
              "      <td>1</td>\n",
              "      <td>0.951000</td>\n",
              "      <td>0.000217</td>\n",
              "      <td>0.401</td>\n",
              "      <td>75.916</td>\n",
              "      <td>275560</td>\n",
              "      <td>4</td>\n",
              "      <td>37.51903</td>\n",
              "      <td>11</td>\n",
              "      <td>0</td>\n",
              "    </tr>\n",
              "    <tr>\n",
              "      <th>5870</th>\n",
              "      <td>0.390</td>\n",
              "      <td>0.6010</td>\n",
              "      <td>7</td>\n",
              "      <td>-8.236</td>\n",
              "      <td>0</td>\n",
              "      <td>0.031300</td>\n",
              "      <td>0.947000</td>\n",
              "      <td>0.439</td>\n",
              "      <td>116.122</td>\n",
              "      <td>223627</td>\n",
              "      <td>4</td>\n",
              "      <td>39.84092</td>\n",
              "      <td>11</td>\n",
              "      <td>0</td>\n",
              "    </tr>\n",
              "    <tr>\n",
              "      <th>5871</th>\n",
              "      <td>0.539</td>\n",
              "      <td>0.7400</td>\n",
              "      <td>0</td>\n",
              "      <td>-5.566</td>\n",
              "      <td>0</td>\n",
              "      <td>0.194000</td>\n",
              "      <td>0.000000</td>\n",
              "      <td>0.675</td>\n",
              "      <td>170.054</td>\n",
              "      <td>217160</td>\n",
              "      <td>4</td>\n",
              "      <td>24.95471</td>\n",
              "      <td>13</td>\n",
              "      <td>1</td>\n",
              "    </tr>\n",
              "  </tbody>\n",
              "</table>\n",
              "<p>5872 rows × 14 columns</p>\n",
              "</div>\n",
              "      <button class=\"colab-df-convert\" onclick=\"convertToInteractive('df-2e6db2cf-8763-4cc5-9d93-69b6e19efe04')\"\n",
              "              title=\"Convert this dataframe to an interactive table.\"\n",
              "              style=\"display:none;\">\n",
              "        \n",
              "  <svg xmlns=\"http://www.w3.org/2000/svg\" height=\"24px\"viewBox=\"0 0 24 24\"\n",
              "       width=\"24px\">\n",
              "    <path d=\"M0 0h24v24H0V0z\" fill=\"none\"/>\n",
              "    <path d=\"M18.56 5.44l.94 2.06.94-2.06 2.06-.94-2.06-.94-.94-2.06-.94 2.06-2.06.94zm-11 1L8.5 8.5l.94-2.06 2.06-.94-2.06-.94L8.5 2.5l-.94 2.06-2.06.94zm10 10l.94 2.06.94-2.06 2.06-.94-2.06-.94-.94-2.06-.94 2.06-2.06.94z\"/><path d=\"M17.41 7.96l-1.37-1.37c-.4-.4-.92-.59-1.43-.59-.52 0-1.04.2-1.43.59L10.3 9.45l-7.72 7.72c-.78.78-.78 2.05 0 2.83L4 21.41c.39.39.9.59 1.41.59.51 0 1.02-.2 1.41-.59l7.78-7.78 2.81-2.81c.8-.78.8-2.07 0-2.86zM5.41 20L4 18.59l7.72-7.72 1.47 1.35L5.41 20z\"/>\n",
              "  </svg>\n",
              "      </button>\n",
              "      \n",
              "  <style>\n",
              "    .colab-df-container {\n",
              "      display:flex;\n",
              "      flex-wrap:wrap;\n",
              "      gap: 12px;\n",
              "    }\n",
              "\n",
              "    .colab-df-convert {\n",
              "      background-color: #E8F0FE;\n",
              "      border: none;\n",
              "      border-radius: 50%;\n",
              "      cursor: pointer;\n",
              "      display: none;\n",
              "      fill: #1967D2;\n",
              "      height: 32px;\n",
              "      padding: 0 0 0 0;\n",
              "      width: 32px;\n",
              "    }\n",
              "\n",
              "    .colab-df-convert:hover {\n",
              "      background-color: #E2EBFA;\n",
              "      box-shadow: 0px 1px 2px rgba(60, 64, 67, 0.3), 0px 1px 3px 1px rgba(60, 64, 67, 0.15);\n",
              "      fill: #174EA6;\n",
              "    }\n",
              "\n",
              "    [theme=dark] .colab-df-convert {\n",
              "      background-color: #3B4455;\n",
              "      fill: #D2E3FC;\n",
              "    }\n",
              "\n",
              "    [theme=dark] .colab-df-convert:hover {\n",
              "      background-color: #434B5C;\n",
              "      box-shadow: 0px 1px 3px 1px rgba(0, 0, 0, 0.15);\n",
              "      filter: drop-shadow(0px 1px 2px rgba(0, 0, 0, 0.3));\n",
              "      fill: #FFFFFF;\n",
              "    }\n",
              "  </style>\n",
              "\n",
              "      <script>\n",
              "        const buttonEl =\n",
              "          document.querySelector('#df-2e6db2cf-8763-4cc5-9d93-69b6e19efe04 button.colab-df-convert');\n",
              "        buttonEl.style.display =\n",
              "          google.colab.kernel.accessAllowed ? 'block' : 'none';\n",
              "\n",
              "        async function convertToInteractive(key) {\n",
              "          const element = document.querySelector('#df-2e6db2cf-8763-4cc5-9d93-69b6e19efe04');\n",
              "          const dataTable =\n",
              "            await google.colab.kernel.invokeFunction('convertToInteractive',\n",
              "                                                     [key], {});\n",
              "          if (!dataTable) return;\n",
              "\n",
              "          const docLinkHtml = 'Like what you see? Visit the ' +\n",
              "            '<a target=\"_blank\" href=https://colab.research.google.com/notebooks/data_table.ipynb>data table notebook</a>'\n",
              "            + ' to learn more about interactive tables.';\n",
              "          element.innerHTML = '';\n",
              "          dataTable['output_type'] = 'display_data';\n",
              "          await google.colab.output.renderOutput(dataTable, element);\n",
              "          const docLink = document.createElement('div');\n",
              "          docLink.innerHTML = docLinkHtml;\n",
              "          element.appendChild(docLink);\n",
              "        }\n",
              "      </script>\n",
              "    </div>\n",
              "  </div>\n",
              "  "
            ]
          },
          "metadata": {},
          "execution_count": 3
        }
      ]
    },
    {
      "cell_type": "code",
      "source": [
        "df.shape"
      ],
      "metadata": {
        "colab": {
          "base_uri": "https://localhost:8080/"
        },
        "id": "krCBmUvd4cSA",
        "outputId": "49ef793c-003f-4439-a6a8-eaa203c48d58"
      },
      "execution_count": null,
      "outputs": [
        {
          "output_type": "execute_result",
          "data": {
            "text/plain": [
              "(5872, 19)"
            ]
          },
          "metadata": {},
          "execution_count": 4
        }
      ]
    },
    {
      "cell_type": "code",
      "source": [
        "X = df.drop(['track','artist','uri','speechiness','liveness','target'],axis=1).values\n",
        "y = df['target'].values"
      ],
      "metadata": {
        "id": "7qEeSRLx4fqh"
      },
      "execution_count": null,
      "outputs": []
    },
    {
      "cell_type": "code",
      "source": [
        "from sklearn.model_selection import train_test_split"
      ],
      "metadata": {
        "id": "G83Dno5y53DO"
      },
      "execution_count": null,
      "outputs": []
    },
    {
      "cell_type": "code",
      "source": [
        "X_train,X_test,y_train,y_test = train_test_split(X,y,test_size=0.4,stratify=y,random_state=42)"
      ],
      "metadata": {
        "id": "E81e5zGo6dmL"
      },
      "execution_count": null,
      "outputs": []
    },
    {
      "cell_type": "code",
      "source": [
        "#import KNeighborsClassifier\n",
        "from sklearn.neighbors import KNeighborsClassifier\n",
        "\n",
        "#Setup arrays to store training and test accuracies\n",
        "neighbors = np.arange(1,14)\n",
        "train_accuracy = np.empty(len(neighbors))\n",
        "test_accuracy = np.empty(len(neighbors))\n",
        "\n",
        "for i,k in enumerate(neighbors):\n",
        "    #Setup a knn classifier with k neighbors\n",
        "    knn = KNeighborsClassifier(n_neighbors=k)\n",
        "    \n",
        "    #Fit the model\n",
        "    knn.fit(X_train,y_train)\n",
        "    \n",
        "    #Compute accuracy on the training set\n",
        "    train_accuracy[i] = knn.score(X_train,y_train)\n",
        "    \n",
        "    #Compute accuracy on the test set\n",
        "    test_accuracy[i] = knn.score(X_test,y_test)\n",
        "    "
      ],
      "metadata": {
        "id": "X1WYmOFA7DYr"
      },
      "execution_count": null,
      "outputs": []
    },
    {
      "cell_type": "code",
      "source": [
        "plt.plot(neighbors,test_accuracy,label='Testing Accuracy')\n",
        "plt.plot(neighbors,train_accuracy,label='Training Accuracy')\n",
        "plt.legend()\n",
        "plt.xlabel('Number of neighbors')\n",
        "plt.ylabel('Accuracy')\n",
        "plt.title('K-NN Varying number of neighbors')\n",
        "plt.show()"
      ],
      "metadata": {
        "colab": {
          "base_uri": "https://localhost:8080/",
          "height": 299
        },
        "id": "617Ixoln7eC8",
        "outputId": "1bcbe917-64b9-4add-c851-1904f91fe37a"
      },
      "execution_count": null,
      "outputs": [
        {
          "output_type": "display_data",
          "data": {
            "text/plain": [
              "<Figure size 432x288 with 1 Axes>"
            ],
            "image/png": "[encoded data removed]"
          },
          "metadata": {
            "needs_background": "light"
          }
        }
      ]
    },
    {
      "cell_type": "code",
      "source": [
        "knn = KNeighborsClassifier(n_neighbors=12)"
      ],
      "metadata": {
        "id": "nyNZsdDF7oG1"
      },
      "execution_count": null,
      "outputs": []
    },
    {
      "cell_type": "code",
      "source": [
        "knn.fit(X_train,y_train)"
      ],
      "metadata": {
        "colab": {
          "base_uri": "https://localhost:8080/"
        },
        "id": "4o_iXF2h7q_K",
        "outputId": "3cb822cd-1a43-4cb5-ef77-b07665d4db33"
      },
      "execution_count": null,
      "outputs": [
        {
          "output_type": "execute_result",
          "data": {
            "text/plain": [
              "KNeighborsClassifier(n_neighbors=12)"
            ]
          },
          "metadata": {},
          "execution_count": 11
        }
      ]
    },
    {
      "cell_type": "code",
      "source": [
        "knn.score(X_test,y_test)"
      ],
      "metadata": {
        "colab": {
          "base_uri": "https://localhost:8080/",
          "height": 346
        },
        "id": "FofrWxpD7slW",
        "outputId": "a95dfe0d-d511-4ab8-a563-660a83def0b5"
      },
      "execution_count": null,
      "outputs": [
        {
          "output_type": "error",
          "ename": "NotFittedError",
          "evalue": "ignored",
          "traceback": [
            "\u001b[0;31m---------------------------------------------------------------------------\u001b[0m",
            "\u001b[0;31mNotFittedError\u001b[0m                            Traceback (most recent call last)",
            "\u001b[0;32m<ipython-input-28-d8411d266168>\u001b[0m in \u001b[0;36m<module>\u001b[0;34m()\u001b[0m\n\u001b[0;32m----> 1\u001b[0;31m \u001b[0mknn\u001b[0m\u001b[0;34m.\u001b[0m\u001b[0mscore\u001b[0m\u001b[0;34m(\u001b[0m\u001b[0mX_test\u001b[0m\u001b[0;34m,\u001b[0m\u001b[0my_test\u001b[0m\u001b[0;34m)\u001b[0m\u001b[0;34m\u001b[0m\u001b[0;34m\u001b[0m\u001b[0m\n\u001b[0m",
            "\u001b[0;32m/usr/local/lib/python3.7/dist-packages/sklearn/base.py\u001b[0m in \u001b[0;36mscore\u001b[0;34m(self, X, y, sample_weight)\u001b[0m\n\u001b[1;32m    649\u001b[0m         \u001b[0;32mfrom\u001b[0m \u001b[0;34m.\u001b[0m\u001b[0mmetrics\u001b[0m \u001b[0;32mimport\u001b[0m \u001b[0maccuracy_score\u001b[0m\u001b[0;34m\u001b[0m\u001b[0;34m\u001b[0m\u001b[0m\n\u001b[1;32m    650\u001b[0m \u001b[0;34m\u001b[0m\u001b[0m\n\u001b[0;32m--> 651\u001b[0;31m         \u001b[0;32mreturn\u001b[0m \u001b[0maccuracy_score\u001b[0m\u001b[0;34m(\u001b[0m\u001b[0my\u001b[0m\u001b[0;34m,\u001b[0m \u001b[0mself\u001b[0m\u001b[0;34m.\u001b[0m\u001b[0mpredict\u001b[0m\u001b[0;34m(\u001b[0m\u001b[0mX\u001b[0m\u001b[0;34m)\u001b[0m\u001b[0;34m,\u001b[0m \u001b[0msample_weight\u001b[0m\u001b[0;34m=\u001b[0m\u001b[0msample_weight\u001b[0m\u001b[0;34m)\u001b[0m\u001b[0;34m\u001b[0m\u001b[0;34m\u001b[0m\u001b[0m\n\u001b[0m\u001b[1;32m    652\u001b[0m \u001b[0;34m\u001b[0m\u001b[0m\n\u001b[1;32m    653\u001b[0m     \u001b[0;32mdef\u001b[0m \u001b[0m_more_tags\u001b[0m\u001b[0;34m(\u001b[0m\u001b[0mself\u001b[0m\u001b[0;34m)\u001b[0m\u001b[0;34m:\u001b[0m\u001b[0;34m\u001b[0m\u001b[0;34m\u001b[0m\u001b[0m\n",
            "\u001b[0;32m/usr/local/lib/python3.7/dist-packages/sklearn/neighbors/_classification.py\u001b[0m in \u001b[0;36mpredict\u001b[0;34m(self, X)\u001b[0m\n\u001b[1;32m    212\u001b[0m             \u001b[0mClass\u001b[0m \u001b[0mlabels\u001b[0m \u001b[0;32mfor\u001b[0m \u001b[0meach\u001b[0m \u001b[0mdata\u001b[0m \u001b[0msample\u001b[0m\u001b[0;34m.\u001b[0m\u001b[0;34m\u001b[0m\u001b[0;34m\u001b[0m\u001b[0m\n\u001b[1;32m    213\u001b[0m         \"\"\"\n\u001b[0;32m--> 214\u001b[0;31m         \u001b[0mneigh_dist\u001b[0m\u001b[0;34m,\u001b[0m \u001b[0mneigh_ind\u001b[0m \u001b[0;34m=\u001b[0m \u001b[0mself\u001b[0m\u001b[0;34m.\u001b[0m\u001b[0mkneighbors\u001b[0m\u001b[0;34m(\u001b[0m\u001b[0mX\u001b[0m\u001b[0;34m)\u001b[0m\u001b[0;34m\u001b[0m\u001b[0;34m\u001b[0m\u001b[0m\n\u001b[0m\u001b[1;32m    215\u001b[0m         \u001b[0mclasses_\u001b[0m \u001b[0;34m=\u001b[0m \u001b[0mself\u001b[0m\u001b[0;34m.\u001b[0m\u001b[0mclasses_\u001b[0m\u001b[0;34m\u001b[0m\u001b[0;34m\u001b[0m\u001b[0m\n\u001b[1;32m    216\u001b[0m         \u001b[0m_y\u001b[0m \u001b[0;34m=\u001b[0m \u001b[0mself\u001b[0m\u001b[0;34m.\u001b[0m\u001b[0m_y\u001b[0m\u001b[0;34m\u001b[0m\u001b[0;34m\u001b[0m\u001b[0m\n",
            "\u001b[0;32m/usr/local/lib/python3.7/dist-packages/sklearn/neighbors/_base.py\u001b[0m in \u001b[0;36mkneighbors\u001b[0;34m(self, X, n_neighbors, return_distance)\u001b[0m\n\u001b[1;32m    698\u001b[0m                [2]]...)\n\u001b[1;32m    699\u001b[0m         \"\"\"\n\u001b[0;32m--> 700\u001b[0;31m         \u001b[0mcheck_is_fitted\u001b[0m\u001b[0;34m(\u001b[0m\u001b[0mself\u001b[0m\u001b[0;34m)\u001b[0m\u001b[0;34m\u001b[0m\u001b[0;34m\u001b[0m\u001b[0m\n\u001b[0m\u001b[1;32m    701\u001b[0m \u001b[0;34m\u001b[0m\u001b[0m\n\u001b[1;32m    702\u001b[0m         \u001b[0;32mif\u001b[0m \u001b[0mn_neighbors\u001b[0m \u001b[0;32mis\u001b[0m \u001b[0;32mNone\u001b[0m\u001b[0;34m:\u001b[0m\u001b[0;34m\u001b[0m\u001b[0;34m\u001b[0m\u001b[0m\n",
            "\u001b[0;32m/usr/local/lib/python3.7/dist-packages/sklearn/utils/validation.py\u001b[0m in \u001b[0;36mcheck_is_fitted\u001b[0;34m(estimator, attributes, msg, all_or_any)\u001b[0m\n\u001b[1;32m   1220\u001b[0m \u001b[0;34m\u001b[0m\u001b[0m\n\u001b[1;32m   1221\u001b[0m     \u001b[0;32mif\u001b[0m \u001b[0;32mnot\u001b[0m \u001b[0mfitted\u001b[0m\u001b[0;34m:\u001b[0m\u001b[0;34m\u001b[0m\u001b[0;34m\u001b[0m\u001b[0m\n\u001b[0;32m-> 1222\u001b[0;31m         \u001b[0;32mraise\u001b[0m \u001b[0mNotFittedError\u001b[0m\u001b[0;34m(\u001b[0m\u001b[0mmsg\u001b[0m \u001b[0;34m%\u001b[0m \u001b[0;34m{\u001b[0m\u001b[0;34m\"name\"\u001b[0m\u001b[0;34m:\u001b[0m \u001b[0mtype\u001b[0m\u001b[0;34m(\u001b[0m\u001b[0mestimator\u001b[0m\u001b[0;34m)\u001b[0m\u001b[0;34m.\u001b[0m\u001b[0m__name__\u001b[0m\u001b[0;34m}\u001b[0m\u001b[0;34m)\u001b[0m\u001b[0;34m\u001b[0m\u001b[0;34m\u001b[0m\u001b[0m\n\u001b[0m\u001b[1;32m   1223\u001b[0m \u001b[0;34m\u001b[0m\u001b[0m\n\u001b[1;32m   1224\u001b[0m \u001b[0;34m\u001b[0m\u001b[0m\n",
            "\u001b[0;31mNotFittedError\u001b[0m: This KNeighborsClassifier instance is not fitted yet. Call 'fit' with appropriate arguments before using this estimator."
          ]
        }
      ]
    },
    {
      "cell_type": "code",
      "source": [
        "from sklearn.metrics import confusion_matrix"
      ],
      "metadata": {
        "id": "SmKS5NCT9SZk"
      },
      "execution_count": null,
      "outputs": []
    },
    {
      "cell_type": "code",
      "source": [
        "y_pred = knn.predict(X_test)"
      ],
      "metadata": {
        "id": "g9EPpLXx9VIs"
      },
      "execution_count": null,
      "outputs": []
    },
    {
      "cell_type": "code",
      "source": [
        "confusion_matrix(y_test,y_pred)"
      ],
      "metadata": {
        "colab": {
          "base_uri": "https://localhost:8080/"
        },
        "id": "qrPh6IgL9XQo",
        "outputId": "f9b19b25-311b-4fed-ea6f-e65f346089b4"
      },
      "execution_count": null,
      "outputs": [
        {
          "output_type": "execute_result",
          "data": {
            "text/plain": [
              "array([[731, 444],\n",
              "       [356, 818]])"
            ]
          },
          "metadata": {},
          "execution_count": 15
        }
      ]
    },
    {
      "cell_type": "code",
      "source": [
        "from sklearn.metrics import classification_report"
      ],
      "metadata": {
        "id": "Xp5QGvnF9pTW"
      },
      "execution_count": null,
      "outputs": []
    },
    {
      "cell_type": "code",
      "source": [
        "print(classification_report(y_test,y_pred))"
      ],
      "metadata": {
        "colab": {
          "base_uri": "https://localhost:8080/"
        },
        "id": "y0FsfmLl9rE2",
        "outputId": "eab5b4e5-1671-46c7-bb53-f93c4a3200c8"
      },
      "execution_count": null,
      "outputs": [
        {
          "output_type": "stream",
          "name": "stdout",
          "text": [
            "              precision    recall  f1-score   support\n",
            "\n",
            "           0       0.67      0.62      0.65      1175\n",
            "           1       0.65      0.70      0.67      1174\n",
            "\n",
            "    accuracy                           0.66      2349\n",
            "   macro avg       0.66      0.66      0.66      2349\n",
            "weighted avg       0.66      0.66      0.66      2349\n",
            "\n"
          ]
        }
      ]
    },
    {
      "cell_type": "code",
      "source": [
        "y_pred_proba = knn.predict_proba(X_test)[:,1]"
      ],
      "metadata": {
        "id": "SAGZ9ZbW9t9v"
      },
      "execution_count": null,
      "outputs": []
    },
    {
      "cell_type": "code",
      "source": [
        "from sklearn.metrics import roc_curve"
      ],
      "metadata": {
        "id": "pwtJLm0u9vej"
      },
      "execution_count": null,
      "outputs": []
    },
    {
      "cell_type": "code",
      "source": [
        "fpr, tpr, thresholds = roc_curve(y_test,y_pred_proba)"
      ],
      "metadata": {
        "id": "-FP5IxTv9w-d"
      },
      "execution_count": null,
      "outputs": []
    },
    {
      "cell_type": "code",
      "source": [
        "plt.plot([0,1],[0,1],'k--')\n",
        "plt.plot(fpr,tpr,label='knn')\n",
        "plt.xlabel('False positive rate - [1-specifity]')\n",
        "plt.ylabel('True positive rate - [sensitivity] ')\n",
        "plt.title('Knn(k=7) ROC curve')\n",
        "plt.show()"
      ],
      "metadata": {
        "colab": {
          "base_uri": "https://localhost:8080/",
          "height": 299
        },
        "id": "-JFfiXEQ9ygw",
        "outputId": "b15b6919-2266-4868-a37b-a2eaf2981644"
      },
      "execution_count": null,
      "outputs": [
        {
          "output_type": "display_data",
          "data": {
            "text/plain": [
              "<Figure size 432x288 with 1 Axes>"
            ],
            "image/png": "[encoded data removed]"
          },
          "metadata": {
            "needs_background": "light"
          }
        }
      ]
    },
    {
      "cell_type": "code",
      "source": [
        "from sklearn.metrics import roc_auc_score\n",
        "roc_auc_score(y_test,y_pred_proba)"
      ],
      "metadata": {
        "colab": {
          "base_uri": "https://localhost:8080/"
        },
        "id": "fBYDX_6X9056",
        "outputId": "b6776702-af94-44e1-a116-80602e302a31"
      },
      "execution_count": null,
      "outputs": [
        {
          "output_type": "execute_result",
          "data": {
            "text/plain": [
              "0.7146935372793505"
            ]
          },
          "metadata": {},
          "execution_count": 22
        }
      ]
    },
    {
      "cell_type": "code",
      "source": [
        "from sklearn.model_selection import GridSearchCV"
      ],
      "metadata": {
        "id": "m62xEeWC98mf"
      },
      "execution_count": null,
      "outputs": []
    },
    {
      "cell_type": "code",
      "source": [
        "param_grid = {'n_neighbors':np.arange(1,50)}"
      ],
      "metadata": {
        "id": "Po7OInNH99w3"
      },
      "execution_count": null,
      "outputs": []
    },
    {
      "cell_type": "code",
      "source": [
        "knn = KNeighborsClassifier()\n",
        "knn_cv = GridSearchCV(knn,param_grid,cv=5)\n",
        "knn_cv.fit(X,y)"
      ],
      "metadata": {
        "colab": {
          "base_uri": "https://localhost:8080/"
        },
        "id": "1M7qjXMs-Aqz",
        "outputId": "b2e17a5f-34f1-40c3-9efb-56c47e28a3dd"
      },
      "execution_count": null,
      "outputs": [
        {
          "output_type": "execute_result",
          "data": {
            "text/plain": [
              "GridSearchCV(cv=5, estimator=KNeighborsClassifier(),\n",
              "             param_grid={'n_neighbors': array([ 1,  2,  3,  4,  5,  6,  7,  8,  9, 10, 11, 12, 13, 14, 15, 16, 17,\n",
              "       18, 19, 20, 21, 22, 23, 24, 25, 26, 27, 28, 29, 30, 31, 32, 33, 34,\n",
              "       35, 36, 37, 38, 39, 40, 41, 42, 43, 44, 45, 46, 47, 48, 49])})"
            ]
          },
          "metadata": {},
          "execution_count": 25
        }
      ]
    },
    {
      "cell_type": "code",
      "source": [
        "knn_cv.best_score_"
      ],
      "metadata": {
        "colab": {
          "base_uri": "https://localhost:8080/"
        },
        "id": "nerAJ8aB-GDF",
        "outputId": "b711faed-934b-4b0a-81b6-33f1309e5c4e"
      },
      "execution_count": null,
      "outputs": [
        {
          "output_type": "execute_result",
          "data": {
            "text/plain": [
              "0.684433796078147"
            ]
          },
          "metadata": {},
          "execution_count": 26
        }
      ]
    },
    {
      "cell_type": "code",
      "source": [
        "knn_cv.best_params_"
      ],
      "metadata": {
        "colab": {
          "base_uri": "https://localhost:8080/"
        },
        "id": "tz3KaIZi-Ko7",
        "outputId": "1ec5dd33-6515-4068-85f6-6bad4730cead"
      },
      "execution_count": null,
      "outputs": [
        {
          "output_type": "execute_result",
          "data": {
            "text/plain": [
              "{'n_neighbors': 46}"
            ]
          },
          "metadata": {},
          "execution_count": 27
        }
      ]
    }
  ]
}